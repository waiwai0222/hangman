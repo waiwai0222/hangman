{
 "cells": [
  {
   "cell_type": "code",
   "execution_count": 13,
   "id": "9ac3784b",
   "metadata": {},
   "outputs": [],
   "source": [
    "import random\n",
    "\n",
    "def hangman():\n",
    "    word_list = ['Python', 'Java', 'computer', 'hacker', 'painter', 'programmer']\n",
    "    random_number = random.randint(0, len(word_list)-1)\n",
    "    word = word_list[random_number]\n",
    "    wrong = 0\n",
    "    stages = [\"\",\n",
    "             \"________        \",\n",
    "             \"|               \",\n",
    "             \"|        |      \",\n",
    "             \"|        0      \",\n",
    "             \"|       /|＼     \",\n",
    "             \"|       / ＼    \",\n",
    "             \"|               \"\n",
    "              ]\n",
    "    rletters = list(word)\n",
    "    board = [\"_\"] * len(word)\n",
    "    win = False\n",
    "    print('ハングマンへようこそ')\n",
    "    \n",
    "    while wrong < len(stages) - 1:\n",
    "        print(\"\\n\")\n",
    "        msg = '1文字を予想してね'\n",
    "        char = input(msg)\n",
    "        if char in rletters:\n",
    "            cind = rletters.index(char)\n",
    "            board[cind] = char\n",
    "            rletters[cind] = '$'\n",
    "            print('correct')\n",
    "        else:\n",
    "            wrong += 1\n",
    "            print('wrong')\n",
    "        print(''.join(board))\n",
    "        e = wrong + 1\n",
    "        print(\"\\n\".join(stages[0:e]))\n",
    "        \n",
    "        if '_' not in board:\n",
    "            print('You win')\n",
    "            print((\"\\n\".join(board)))\n",
    "            win = True\n",
    "            break\n",
    "            \n",
    "    if not win:\n",
    "        print(\"\\n\".join(stages[0:wrong+1]))\n",
    "        print('You lose, {}'.format(word))\n",
    "        \n"
   ]
  },
  {
   "cell_type": "code",
   "execution_count": 14,
   "id": "b27fa159",
   "metadata": {},
   "outputs": [
    {
     "name": "stdout",
     "output_type": "stream",
     "text": [
      "ハングマンへようこそ\n",
      "\n",
      "\n",
      "1文字を予想してねp\n",
      "wrong\n",
      "______\n",
      "\n",
      "________        \n",
      "\n",
      "\n",
      "1文字を予想してねc\n",
      "correct\n",
      "__c___\n",
      "\n",
      "________        \n",
      "\n",
      "\n",
      "1文字を予想してねh\n",
      "correct\n",
      "h_c___\n",
      "\n",
      "________        \n",
      "\n",
      "\n",
      "1文字を予想してねa\n",
      "correct\n",
      "hac___\n",
      "\n",
      "________        \n",
      "\n",
      "\n",
      "1文字を予想してねe\n",
      "correct\n",
      "hac_e_\n",
      "\n",
      "________        \n",
      "\n",
      "\n",
      "1文字を予想してねr\n",
      "correct\n",
      "hac_er\n",
      "\n",
      "________        \n",
      "\n",
      "\n",
      "1文字を予想してねk\n",
      "correct\n",
      "hacker\n",
      "\n",
      "________        \n",
      "You win\n",
      "h\n",
      "a\n",
      "c\n",
      "k\n",
      "e\n",
      "r\n"
     ]
    }
   ],
   "source": [
    "hangman()"
   ]
  },
  {
   "cell_type": "code",
   "execution_count": null,
   "id": "9187d933",
   "metadata": {},
   "outputs": [],
   "source": []
  },
  {
   "cell_type": "code",
   "execution_count": null,
   "id": "9c4229c3",
   "metadata": {},
   "outputs": [],
   "source": []
  },
  {
   "cell_type": "code",
   "execution_count": null,
   "id": "e18c1636",
   "metadata": {},
   "outputs": [],
   "source": []
  },
  {
   "cell_type": "code",
   "execution_count": null,
   "id": "2f977c2c",
   "metadata": {},
   "outputs": [],
   "source": []
  },
  {
   "cell_type": "code",
   "execution_count": null,
   "id": "761161ae",
   "metadata": {},
   "outputs": [],
   "source": []
  },
  {
   "cell_type": "code",
   "execution_count": null,
   "id": "05d64b24",
   "metadata": {},
   "outputs": [],
   "source": []
  },
  {
   "cell_type": "code",
   "execution_count": null,
   "id": "79b5cda4",
   "metadata": {},
   "outputs": [],
   "source": []
  },
  {
   "cell_type": "code",
   "execution_count": null,
   "id": "c8d9b769",
   "metadata": {},
   "outputs": [],
   "source": []
  }
 ],
 "metadata": {
  "kernelspec": {
   "display_name": "Python 3 (ipykernel)",
   "language": "python",
   "name": "python3"
  },
  "language_info": {
   "codemirror_mode": {
    "name": "ipython",
    "version": 3
   },
   "file_extension": ".py",
   "mimetype": "text/x-python",
   "name": "python",
   "nbconvert_exporter": "python",
   "pygments_lexer": "ipython3",
   "version": "3.9.13"
  }
 },
 "nbformat": 4,
 "nbformat_minor": 5
}
